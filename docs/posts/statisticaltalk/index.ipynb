{
  "cells": [
    {
      "cell_type": "markdown",
      "metadata": {},
      "source": [
        "# Some Key Statistical Concepts for Interview Prep\n",
        "\n",
        "Rafiq Islam  \n",
        "2024-09-05"
      ],
      "id": "c4a2cb92-1194-4075-8ff5-0b37cd0f3f9d"
    },
    {
      "cell_type": "raw",
      "metadata": {
        "raw_mimetype": "text/html"
      },
      "source": [
        "<p style=\"text-align:justify\">"
      ],
      "id": "a66a18fc-d977-40a7-8e22-bd5a67bf840b"
    },
    {
      "cell_type": "markdown",
      "metadata": {},
      "source": [
        "In the world of data analysis and machine learning, statistics plays a\n",
        "vital role in making sense of the data. Whether you’re estimating\n",
        "parameters, testing hypotheses, or understanding relationships between\n",
        "variables, statistical concepts guide how we interpret data. In this\n",
        "post, I want to summarise and collect some fundamental statistical ideas\n",
        "that are quite common and asked in many data science, machine learning,\n",
        "and quant interviews"
      ],
      "id": "59412736-8df8-4ab0-b48f-deb662742c69"
    },
    {
      "cell_type": "raw",
      "metadata": {
        "raw_mimetype": "text/html"
      },
      "source": [
        "</p>"
      ],
      "id": "1a07e9c1-d781-42b5-a8a1-51a1921f2140"
    },
    {
      "cell_type": "markdown",
      "metadata": {},
      "source": [
        "## Basic Statistical Terminologies\n",
        "\n",
        "### The mean\n",
        "\n",
        "The **mean** is one of the most basic statistical concepts and\n",
        "represents the average value of a dataset. It’s calculated by summing\n",
        "all the values in a dataset and then dividing by the number of\n",
        "observations.\n",
        "\n",
        "Mathematically, for a set of discrete observations $x_1, x_2, ..., x_n$,\n",
        "the mean $\\mu$ or *Expected Value* is defined as:\n",
        "\n",
        "For a continuous random variable $X$, the mean  \n",
        "$$\n",
        "\\mu = \\mathbb{E}[X]=\\int_{-\\infty}^{\\infty}xf_X(x)dx\n",
        "$$"
      ],
      "id": "f6bcb644-2079-4654-a6a6-528bfa82e6f6"
    },
    {
      "cell_type": "raw",
      "metadata": {
        "raw_mimetype": "text/html"
      },
      "source": [
        "<p style=\"text-align: justify\">"
      ],
      "id": "a2b4c713-7636-486d-97a8-74bfad330230"
    },
    {
      "cell_type": "markdown",
      "metadata": {},
      "source": [
        "where, $\\mathbb{P}(X=x)$ is the *probability mass function (pmf)* and\n",
        "$f_X(x)$ is the *probability density function (pdf)* of the random\n",
        "variable $X$, depending on whether it is discrete or contineous type.\n",
        "The mean helps describe the central tendency of data, but it can be\n",
        "sensitive to outliers."
      ],
      "id": "3fd47548-1f24-4184-b518-b7caa037812e"
    },
    {
      "cell_type": "raw",
      "metadata": {
        "raw_mimetype": "text/html"
      },
      "source": [
        "</p>"
      ],
      "id": "b969c920-f837-4514-90a7-b322e29857ef"
    },
    {
      "cell_type": "markdown",
      "metadata": {},
      "source": [
        "### Variance"
      ],
      "id": "4db08862-b2a1-44ef-9fa2-bb35f86e6a18"
    },
    {
      "cell_type": "raw",
      "metadata": {
        "raw_mimetype": "text/html"
      },
      "source": [
        "<p style=\"text-align: justify\">"
      ],
      "id": "ba19aa12-7db0-46f0-8d8c-6f485c782d65"
    },
    {
      "cell_type": "markdown",
      "metadata": {},
      "source": [
        "**Variance** measures the spread or dispersion of a dataset relative to\n",
        "its mean. It tells us how far the individual data points are from the\n",
        "mean. A small variance indicates that data points are clustered closely\n",
        "around the mean, while a large variance means they are spread out."
      ],
      "id": "a5d89047-c201-4684-9ade-7803f2ad4fa8"
    },
    {
      "cell_type": "raw",
      "metadata": {
        "raw_mimetype": "text/html"
      },
      "source": [
        "</p>"
      ],
      "id": "d0ac3044-b4c2-4241-bbbe-a3834350cfe4"
    },
    {
      "cell_type": "markdown",
      "metadata": {},
      "source": [
        "The formula for variance $\\sigma^2$ is:\n",
        "\n",
        "However, the population and sample variance formula are slightly\n",
        "different. For discrete observations, the sample variance is given as\n",
        "\n",
        "$$ s= \\frac{1}{n-1} \\sum_{i=1}^{n} (x_i - \\mu)^2$$\n",
        "\n",
        "Instead of dividing by $n$ we devide by $n-1$ to have the sample\n",
        "variance unbiased and bigger than the population variance so that it\n",
        "contains the true population variance.\n",
        "\n",
        "**Examples**\n",
        "\n",
        "1.  Normal Distribution with mean $\\mu$ and variance $\\sigma^2$ has the\n",
        "    pdf\n",
        "    $f_{X}(x)=\\frac{1}{\\sqrt{2\\pi \\sigma^2}}\\exp{\\left[-\\frac{(x-\\mu)^2}{2\\sigma^2}\\right]}$  \n",
        "2.  Standard Normal Distribution with mean $0$ and variance $1$ has the\n",
        "    pdf\n",
        "    $f_{X}(x)=\\frac{1}{\\sqrt{2\\pi \\sigma^2}}\\exp{\\left[-\\frac{x^2}{2}\\right]}$  \n",
        "3.  Now if $\\log X\\sim \\mathbfcal{N}(0,1)$ then what is the distribution\n",
        "    of $X$?\n",
        "\n",
        "### Covariance"
      ],
      "id": "44fddac0-0320-454b-94f4-2765251b13f5"
    },
    {
      "cell_type": "raw",
      "metadata": {
        "raw_mimetype": "text/html"
      },
      "source": [
        "<p style=\"text-align: justify\">"
      ],
      "id": "35aef1cc-796c-4ee0-8d0b-1b960083a472"
    },
    {
      "cell_type": "markdown",
      "metadata": {},
      "source": [
        "**Covariance** measures how two variables move together. If the\n",
        "covariance is positive, the two variables tend to increase or decrease\n",
        "together. If negative, one variable tends to increase when the other\n",
        "decreases."
      ],
      "id": "f156cec9-5aee-4f5c-a8ea-d94848163a4b"
    },
    {
      "cell_type": "raw",
      "metadata": {
        "raw_mimetype": "text/html"
      },
      "source": [
        "</p>"
      ],
      "id": "a3e458d6-16bb-4fb5-9cc9-a8dd63537296"
    },
    {
      "cell_type": "markdown",
      "metadata": {},
      "source": [
        "The formula for covariance between two variables $X$ and $Y$ is:\n",
        "\n",
        "$$\n",
        "\\text{Cov}(X, Y) = \\frac{1}{n} \\sum_{i=1}^{n} (X_i - \\mu_X)(Y_i - \\mu_Y)\n",
        "$$\n",
        "\n",
        "However, covariance doesn’t indicate the strength of the relationship,\n",
        "which brings us to **correlation**.\n",
        "\n",
        "### Correlation"
      ],
      "id": "7064dc61-c01b-4468-9860-5161e21b5488"
    },
    {
      "cell_type": "raw",
      "metadata": {
        "raw_mimetype": "text/html"
      },
      "source": [
        "<p style=\"text-align: justify\">"
      ],
      "id": "095c58dc-553e-40d4-8413-7c56795190d6"
    },
    {
      "cell_type": "markdown",
      "metadata": {},
      "source": [
        "**Correlation** is a standardized measure of the relationship between\n",
        "two variables. It ranges from $-1$ to $1$, where $1$ indicates a perfect\n",
        "positive relationship, $-1$ a perfect negative relationship, and $0$ no\n",
        "relationship."
      ],
      "id": "ca47f9f1-5bde-4068-a3eb-d9666754c66c"
    },
    {
      "cell_type": "raw",
      "metadata": {
        "raw_mimetype": "text/html"
      },
      "source": [
        "</p>"
      ],
      "id": "eb449499-f1e1-40a4-89f8-5aeeadc30d45"
    },
    {
      "cell_type": "markdown",
      "metadata": {},
      "source": [
        "The most common correlation metric is **Pearson correlation**, defined\n",
        "as:\n",
        "\n",
        "$$\n",
        "\\rho(X, Y) = \\frac{\\text{Cov}(X, Y)}{\\sigma_X \\sigma_Y}\n",
        "$$\n",
        "\n",
        "Unlike covariance, correlation gives a clearer picture of the strength\n",
        "and direction of a linear relationship between variables.\n",
        "\n",
        "### P-Values and Hypothesis Testing"
      ],
      "id": "930b2df6-8573-4340-aebf-e09c6e20f5e0"
    },
    {
      "cell_type": "raw",
      "metadata": {
        "raw_mimetype": "text/html"
      },
      "source": [
        "<p style=\"text-align: justify\">"
      ],
      "id": "55aa1dfe-684b-4fd1-98be-890188f6cd8c"
    },
    {
      "cell_type": "markdown",
      "metadata": {},
      "source": [
        "**P-values** and **hypothesis testing** form the backbone of inferential\n",
        "statistics. Hypothesis testing is used to determine if a given\n",
        "assumption (the **null hypothesis** $H_0$) about a population parameter\n",
        "is true or not."
      ],
      "id": "4aab3789-3111-4531-8d60-7c806fe63eff"
    },
    {
      "cell_type": "raw",
      "metadata": {
        "raw_mimetype": "text/html"
      },
      "source": [
        "</p>"
      ],
      "id": "dce102c2-6d4c-44f9-bee4-11e6147ccd6a"
    },
    {
      "cell_type": "markdown",
      "metadata": {},
      "source": [
        "-   The **null hypothesis** $H_0$ typically suggests no effect or no\n",
        "    difference.\n",
        "-   The **alternative hypothesis** $H_1$ is the claim you want to test.\n",
        "\n",
        "The **p-value** is the probability of observing a result as extreme as,\n",
        "or more extreme than, the one obtained, assuming the null hypothesis is\n",
        "true. A small p-value (usually less than 0.05) indicates that the null\n",
        "hypothesis is unlikely, and we may reject it in favor of the alternative\n",
        "hypothesis.\n",
        "\n",
        "### Maximum Likelihood Estimation (MLE)"
      ],
      "id": "7b670fb1-9c28-46cf-8337-905829f32c92"
    },
    {
      "cell_type": "raw",
      "metadata": {
        "raw_mimetype": "text/html"
      },
      "source": [
        "<p style=\"text-align: justify\">"
      ],
      "id": "976e7517-62cc-40ba-b587-3a44b99d237b"
    },
    {
      "cell_type": "markdown",
      "metadata": {},
      "source": [
        "**Maximum Likelihood Estimation (MLE)** is a method for estimating the\n",
        "parameters of a statistical model. The idea behind MLE is to find the\n",
        "parameter values that maximize the likelihood function, which represents\n",
        "the probability of observing the given data under a particular model."
      ],
      "id": "6b78967a-b51c-45d1-b674-537412b2a969"
    },
    {
      "cell_type": "raw",
      "metadata": {
        "raw_mimetype": "text/html"
      },
      "source": [
        "</p>"
      ],
      "id": "69f38cf6-5c0c-44f6-ac69-d2c16953e6eb"
    },
    {
      "cell_type": "markdown",
      "metadata": {},
      "source": [
        "Given a parameter $\\theta$ and observed data $X$, the likelihood\n",
        "function is:\n",
        "\n",
        "$$\n",
        "L(\\theta | X) = P(X | \\theta)\n",
        "$$\n",
        "\n",
        "MLE finds the parameter $\\hat{\\theta}$ that maximizes this likelihood:\n",
        "\n",
        "$$\n",
        "\\hat{\\theta} = \\arg\\max_{\\theta} L(\\theta | X)\n",
        "$$\n",
        "\n",
        "MLE is widely used in statistical modeling, from simple linear\n",
        "regression to complex machine learning algorithms.\n",
        "\n",
        "### Maximum A Posteriori (MAP)\n",
        "\n",
        "While MLE focuses on maximizing the likelihood, **Maximum A Posteriori\n",
        "(MAP)** estimation incorporates prior information about the parameters.\n",
        "MAP is rooted in Bayesian statistics, where the goal is to find the\n",
        "parameter that maximizes the **posterior** distribution.\n",
        "\n",
        "The posterior is given by Bayes’ Theorem:\n",
        "\n",
        "$$\n",
        "P(\\theta | X) = \\frac{P(X | \\theta) P(\\theta)}{P(X)}\n",
        "$$\n",
        "\n",
        "MAP finds the parameter $\\hat{\\theta}_{\\text{MAP}}$ that maximizes the\n",
        "posterior probability:\n",
        "\n",
        "$$\n",
        "\\hat{\\theta}_{\\text{MAP}} = \\arg\\max_{\\theta} P(\\theta | X)\n",
        "$$\n",
        "\n",
        "Unlike MLE, MAP estimation incorporates the prior distribution\n",
        "$P(\\theta)$, making it more robust when prior knowledge is available\n",
        "\n",
        "------------------------------------------------------------------------\n",
        "\n",
        "**Share on**\n",
        "\n",
        "<a href=\"https://www.facebook.com/sharer.php?u=https://mrislambd.github.io/statandprob/posts/statisticaltalk/\" target=\"_blank\" style=\"color:#1877F2; text-decoration: none;\">\n",
        "\n",
        "</a>\n",
        "\n",
        "<a href=\"https://www.linkedin.com/sharing/share-offsite/?url=https://mrislambd.github.io/statandprob/posts/statisticaltalk/\" target=\"_blank\" style=\"color:#0077B5; text-decoration: none;\">\n",
        "\n",
        "</a>\n",
        "\n",
        "<a href=\"https://www.twitter.com/intent/tweet?url=https://mrislambd.github.io/statandprob/posts/statisticaltalk/\" target=\"_blank\" style=\"color:#1DA1F2; text-decoration: none;\">\n",
        "\n",
        "</a>"
      ],
      "id": "952ea59d-2952-4472-8e1b-45d6e2498296"
    },
    {
      "cell_type": "raw",
      "metadata": {
        "raw_mimetype": "text/html"
      },
      "source": [
        "<script src=\"https://giscus.app/client.js\"\n",
        "        data-repo=\"mrislambd/mrislambd.github.io\" \n",
        "        data-repo-id=\"R_kgDOMV8crA\"\n",
        "        data-category=\"Announcements\"\n",
        "        data-category-id=\"DIC_kwDOMV8crM4CjbQW\"\n",
        "        data-mapping=\"pathname\"\n",
        "        data-strict=\"0\"\n",
        "        data-reactions-enabled=\"1\"\n",
        "        data-emit-metadata=\"0\"\n",
        "        data-input-position=\"bottom\"\n",
        "        data-theme=\"light\"\n",
        "        data-lang=\"en\"\n",
        "        crossorigin=\"anonymous\"\n",
        "        async>\n",
        "</script>"
      ],
      "id": "1e3c57a7-862f-4c82-8722-8295561ee990"
    },
    {
      "cell_type": "markdown",
      "metadata": {},
      "source": [],
      "id": "ae862116-4051-45c7-bc99-91b602b2ac27"
    },
    {
      "cell_type": "raw",
      "metadata": {
        "raw_mimetype": "text/html"
      },
      "source": [
        "<script async defer crossorigin=\"anonymous\"\n",
        " src=\"https://connect.facebook.net/en_US/sdk.js#xfbml=1&version=v20.0\"></script>"
      ],
      "id": "90aa41ac-7340-4018-82a4-0933e168328c"
    },
    {
      "cell_type": "markdown",
      "metadata": {},
      "source": [
        "**You may also like**"
      ],
      "id": "21844bc1-5622-4a63-b970-c999f470cb9a"
    }
  ],
  "nbformat": 4,
  "nbformat_minor": 5,
  "metadata": {
    "kernelspec": {
      "display_name": "Python 3",
      "language": "python",
      "name": "python3"
    }
  }
}