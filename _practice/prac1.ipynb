{
 "cells": [
  {
   "cell_type": "code",
   "execution_count": null,
   "metadata": {},
   "outputs": [
    {
     "name": "stdout",
     "output_type": "stream",
     "text": [
      "3\n"
     ]
    }
   ],
   "source": [
    "# Find the square root\n",
    "\n",
    "def square_root(x):\n",
    "    l, r = 0, x\n",
    "    sq = 0\n",
    "    while l <= r:\n",
    "        mid = l + (r-l)//2\n",
    "        if mid**2 > x:\n",
    "            r = mid - 1\n",
    "        elif mid**2 < x:\n",
    "            l = mid+1\n",
    "            sq = mid\n",
    "        else:\n",
    "            return mid\n",
    "    return sq\n",
    "\n",
    "\n",
    "print(square_root(9))"
   ]
  },
  {
   "cell_type": "code",
   "execution_count": null,
   "metadata": {},
   "outputs": [],
   "source": []
  }
 ],
 "metadata": {
  "kernelspec": {
   "display_name": "pytorch-env",
   "language": "python",
   "name": "python3"
  },
  "language_info": {
   "codemirror_mode": {
    "name": "ipython",
    "version": 3
   },
   "file_extension": ".py",
   "mimetype": "text/x-python",
   "name": "python",
   "nbconvert_exporter": "python",
   "pygments_lexer": "ipython3",
   "version": "3.11.7"
  }
 },
 "nbformat": 4,
 "nbformat_minor": 2
}
