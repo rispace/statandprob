{
 "cells": [
  {
   "cell_type": "code",
   "execution_count": 4,
   "metadata": {},
   "outputs": [],
   "source": [
    "link = \"https://mrislambd.github.io/statandprob/posts/optionprice/\""
   ]
  },
  {
   "cell_type": "code",
   "execution_count": 5,
   "metadata": {},
   "outputs": [
    {
     "name": "stdout",
     "output_type": "stream",
     "text": [
      "::::{.columns}\n",
      ":::{.column width=\"33%\"}\n",
      "<a href=\"https://www.facebook.com/sharer.php?u=https://mrislambd.github.io/statandprob/posts/optionprice/\" target=\"_blank\" style=\"color:#1877F2; text-decoration: none;\">\n",
      " \n",
      "{{< fa brands facebook size=3x >}}\n",
      "</a>\n",
      " \n",
      ":::\n",
      " \n",
      ":::{.column width=\"33%\"}\n",
      "<a href=\"https://www.linkedin.com/sharing/share-offsite/?url=https://mrislambd.github.io/statandprob/posts/optionprice/\" target=\"_blank\" style=\"color:#0077B5; text-decoration: none;\">\n",
      " \n",
      "{{< fa brands linkedin size=3x >}}\n",
      "</a>\n",
      " \n",
      ":::\n",
      " \n",
      ":::{.column width=\"33%\"}\n",
      "<a href=\"https://www.twitter.com/intent/tweet?url=https://mrislambd.github.io/statandprob/posts/optionprice/\" target=\"_blank\" style=\"color:#1DA1F2; text-decoration: none;\">\n",
      " \n",
      "{{< fa brands twitter size=3x >}}\n",
      "</a>\n",
      " \n",
      ":::\n",
      "::::\n",
      " \n",
      "<script src=\"https://giscus.app/client.js\"\n",
      "        data-repo=\"mrislambd/mrislambd.github.io\" \n",
      "        data-repo-id=\"R_kgDOMV8crA\"\n",
      "        data-category=\"Announcements\"\n",
      "        data-category-id=\"DIC_kwDOMV8crM4CjbQW\"\n",
      "        data-mapping=\"pathname\"\n",
      "        data-strict=\"0\"\n",
      "        data-reactions-enabled=\"1\"\n",
      "        data-emit-metadata=\"0\"\n",
      "        data-input-position=\"bottom\"\n",
      "        data-theme=\"light\"\n",
      "        data-lang=\"en\"\n",
      "        crossorigin=\"anonymous\"\n",
      "        async>\n",
      "</script>\n",
      " \n",
      "<div id=\"fb-root\"></div>\n",
      "<script async defer crossorigin=\"anonymous\"\n",
      " src=\"https://connect.facebook.net/en_US/sdk.js#xfbml=1&version=v20.0\"></script>\n",
      "<div class=\"fb-comments\" data-href=\"https://mrislambd.github.io/statandprob/posts/optionprice/\" data-width=\"750\" data-numposts=\"5\"></div>\n"
     ]
    }
   ],
   "source": [
    "print('::::{.columns}')\n",
    "print(':::{.column width=\"33%\"}')\n",
    "print('<a href=\"https://www.facebook.com/sharer.php?u={}\" target=\"_blank\" style=\"color:#1877F2; text-decoration: none;\">'.format(link))\n",
    "print(' ')\n",
    "print('{{< fa brands facebook size=3x >}}')\n",
    "print('</a>')\n",
    "print(' ')\n",
    "print(':::')\n",
    "print(' ')\n",
    "print(':::{.column width=\"33%\"}')\n",
    "print('<a href=\"https://www.linkedin.com/sharing/share-offsite/?url={}\" target=\"_blank\" style=\"color:#0077B5; text-decoration: none;\">'.format(link))\n",
    "print(' ')\n",
    "print('{{< fa brands linkedin size=3x >}}')\n",
    "print('</a>')\n",
    "print(' ')\n",
    "print(':::')\n",
    "print(' ')\n",
    "print(':::{.column width=\"33%\"}')\n",
    "print('<a href=\"https://www.twitter.com/intent/tweet?url={}\" target=\"_blank\" style=\"color:#1DA1F2; text-decoration: none;\">'.format(link))\n",
    "print(' ')\n",
    "print('{{< fa brands twitter size=3x >}}')\n",
    "print('</a>')\n",
    "print(' ')\n",
    "print(':::')\n",
    "print('::::')\n",
    "print(\" \")\n",
    "print('<script src=\"https://giscus.app/client.js\"')\n",
    "print('        data-repo=\"mrislambd/mrislambd.github.io\" ')\n",
    "print('        data-repo-id=\"R_kgDOMV8crA\"')\n",
    "print('        data-category=\"Announcements\"')\n",
    "print('        data-category-id=\"DIC_kwDOMV8crM4CjbQW\"')\n",
    "print('        data-mapping=\"pathname\"')\n",
    "print('        data-strict=\"0\"')\n",
    "print('        data-reactions-enabled=\"1\"')\n",
    "print('        data-emit-metadata=\"0\"')\n",
    "print('        data-input-position=\"bottom\"')\n",
    "print('        data-theme=\"light\"')\n",
    "print('        data-lang=\"en\"')\n",
    "print('        crossorigin=\"anonymous\"')\n",
    "print('        async>')\n",
    "print('</script>')\n",
    "print(' ')\n",
    "print('<div id=\"fb-root\"></div>')\n",
    "print('<script async defer crossorigin=\"anonymous\"\\n src=\"https://connect.facebook.net/en_US/sdk.js#xfbml=1&version=v20.0\"></script>')\n",
    "print('<div class=\"fb-comments\" data-href=\"{}\" data-width=\"750\" data-numposts=\"5\"></div>'.format(link))"
   ]
  },
  {
   "cell_type": "code",
   "execution_count": null,
   "metadata": {},
   "outputs": [],
   "source": []
  }
 ],
 "metadata": {
  "kernelspec": {
   "display_name": "pytorch-env",
   "language": "python",
   "name": "python3"
  },
  "language_info": {
   "codemirror_mode": {
    "name": "ipython",
    "version": 3
   },
   "file_extension": ".py",
   "mimetype": "text/x-python",
   "name": "python",
   "nbconvert_exporter": "python",
   "pygments_lexer": "ipython3",
   "version": "3.11.7"
  }
 },
 "nbformat": 4,
 "nbformat_minor": 2
}
