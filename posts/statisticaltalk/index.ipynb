{
  "cells": [
    {
      "cell_type": "markdown",
      "metadata": {},
      "source": [
        "# Some Key Statistical Concepts for Interview Prep\n",
        "\n",
        "Rafiq Islam  \n",
        "2024-05-09"
      ],
      "id": "37edb2f1-c550-452f-b37a-de41f7cad852"
    },
    {
      "cell_type": "raw",
      "metadata": {
        "raw_mimetype": "text/html"
      },
      "source": [
        "<p style=\"text-align:justify\">"
      ],
      "id": "a860486d-ebce-4393-871a-4318826c9283"
    },
    {
      "cell_type": "markdown",
      "metadata": {},
      "source": [
        "In the world of data analysis and machine learning, statistics plays a\n",
        "vital role in making sense of the data. Whether you’re estimating\n",
        "parameters, testing hypotheses, or understanding relationships between\n",
        "variables, statistical concepts guide how we interpret data. In this\n",
        "post, I want to summarise and collect some fundamental statistical ideas\n",
        "that are quite common and asked in many data science, machine learning,\n",
        "and quant interviews"
      ],
      "id": "b12645d3-8c6f-469d-996e-77e3e887c7c5"
    },
    {
      "cell_type": "raw",
      "metadata": {
        "raw_mimetype": "text/html"
      },
      "source": [
        "</p>"
      ],
      "id": "be528a85-1153-49fa-9159-41d563b15c6b"
    },
    {
      "cell_type": "markdown",
      "metadata": {},
      "source": [
        "## Basic Statistical Terminologies\n",
        "\n",
        "### The mean\n",
        "\n",
        "The **mean** is one of the most basic statistical concepts and\n",
        "represents the average value of a dataset. It’s calculated by summing\n",
        "all the values in a dataset and then dividing by the number of\n",
        "observations.\n",
        "\n",
        "Mathematically, for a set of discrete observations $x_1, x_2, ..., x_n$,\n",
        "the mean $\\mu$ or *Expected Value* is defined as:\n",
        "\n",
        "For a continuous random variable $X$, the mean  \n",
        "$$\n",
        "\\mu = \\mathbb{E}[X]=\\int_{-\\infty}^{\\infty}xf_X(x)dx\n",
        "$$"
      ],
      "id": "3a033ee7-619a-4201-8a10-b8a580602aa3"
    },
    {
      "cell_type": "raw",
      "metadata": {
        "raw_mimetype": "text/html"
      },
      "source": [
        "<p style=\"text-align: justify\">"
      ],
      "id": "8bc13737-cc3a-4660-b0f7-96970f525ba0"
    },
    {
      "cell_type": "markdown",
      "metadata": {},
      "source": [
        "where, $\\mathbb{P}(X=x)$ is the *probability mass function (pmf)* and\n",
        "$f_X(x)$ is the *probability density function (pdf)* of the random\n",
        "variable $X$, depending on whether it is discrete or contineous type.\n",
        "The mean helps describe the central tendency of data, but it can be\n",
        "sensitive to outliers."
      ],
      "id": "6e55c88d-7a4d-404c-bcd1-5c624300a202"
    },
    {
      "cell_type": "raw",
      "metadata": {
        "raw_mimetype": "text/html"
      },
      "source": [
        "</p>"
      ],
      "id": "bce33b39-9c74-4439-a804-9c54154f7683"
    },
    {
      "cell_type": "markdown",
      "metadata": {},
      "source": [
        "### Variance"
      ],
      "id": "dd7662e3-a711-4ee2-bf8b-a9c0682a6e75"
    },
    {
      "cell_type": "raw",
      "metadata": {
        "raw_mimetype": "text/html"
      },
      "source": [
        "<p style=\"text-align: justify\">"
      ],
      "id": "d8f1c536-4146-4a59-904f-ba22c18a585c"
    },
    {
      "cell_type": "markdown",
      "metadata": {},
      "source": [
        "**Variance** measures the spread or dispersion of a dataset relative to\n",
        "its mean. It tells us how far the individual data points are from the\n",
        "mean. A small variance indicates that data points are clustered closely\n",
        "around the mean, while a large variance means they are spread out."
      ],
      "id": "599b0adf-d4ec-4328-b849-f7aef5c48bd7"
    },
    {
      "cell_type": "raw",
      "metadata": {
        "raw_mimetype": "text/html"
      },
      "source": [
        "</p>"
      ],
      "id": "3c9d5e3d-6710-4b65-9e94-bb3a64e6430d"
    },
    {
      "cell_type": "markdown",
      "metadata": {},
      "source": [
        "The formula for variance $\\sigma^2$ is:\n",
        "\n",
        "However, the population and sample variance formula are slightly\n",
        "different. For discrete observations, the sample variance is given as\n",
        "\n",
        "$$ s= \\frac{1}{n-1} \\sum_{i=1}^{n} (x_i - \\mu)^2$$\n",
        "\n",
        "Instead of dividing by $n$ we devide by $n-1$ to have the sample\n",
        "variance unbiased and bigger than the population variance so that it\n",
        "contains the true population variance.\n",
        "\n",
        "**Examples**\n",
        "\n",
        "1.  Normal Distribution with mean $\\mu$ and variance $\\sigma^2$ has the\n",
        "    pdf\n",
        "    $f_{X}(x)=\\frac{1}{\\sqrt{2\\pi \\sigma^2}}\\exp{\\left[-\\frac{(x-\\mu)^2}{2\\sigma^2}\\right]}$  \n",
        "2.  Standard Normal Distribution with mean $0$ and variance $1$ has the\n",
        "    pdf\n",
        "    $f_{X}(x)=\\frac{1}{\\sqrt{2\\pi \\sigma^2}}\\exp{\\left[-\\frac{x^2}{2}\\right]}$  \n",
        "3.  Now if $\\log X\\sim \\mathbfcal{N}(0,1)$ then what is the distribution\n",
        "    of $X$?\n",
        "\n",
        "### Covariance"
      ],
      "id": "031ea07c-9187-4b26-85dc-aadd09c0971e"
    },
    {
      "cell_type": "raw",
      "metadata": {
        "raw_mimetype": "text/html"
      },
      "source": [
        "<p style=\"text-align: justify\">"
      ],
      "id": "08ef0bf4-0efd-40a2-a5a8-cdd8c4470a77"
    },
    {
      "cell_type": "markdown",
      "metadata": {},
      "source": [
        "**Covariance** measures how two variables move together. If the\n",
        "covariance is positive, the two variables tend to increase or decrease\n",
        "together. If negative, one variable tends to increase when the other\n",
        "decreases."
      ],
      "id": "3d04ab96-e70b-4a50-b842-320b6987dab5"
    },
    {
      "cell_type": "raw",
      "metadata": {
        "raw_mimetype": "text/html"
      },
      "source": [
        "</p>"
      ],
      "id": "4ea9d867-ac82-4743-a5a9-4169541fc8cc"
    },
    {
      "cell_type": "markdown",
      "metadata": {},
      "source": [
        "The formula for covariance between two variables $X$ and $Y$ is:\n",
        "\n",
        "$$\n",
        "\\text{Cov}(X, Y) = \\frac{1}{n} \\sum_{i=1}^{n} (X_i - \\mu_X)(Y_i - \\mu_Y)\n",
        "$$\n",
        "\n",
        "However, covariance doesn’t indicate the strength of the relationship,\n",
        "which brings us to **correlation**.\n",
        "\n",
        "### Correlation"
      ],
      "id": "ef796471-127e-4fa3-abed-0b215dae5eb2"
    },
    {
      "cell_type": "raw",
      "metadata": {
        "raw_mimetype": "text/html"
      },
      "source": [
        "<p style=\"text-align: justify\">"
      ],
      "id": "34e5e663-716b-4048-b22b-a6a560d777e8"
    },
    {
      "cell_type": "markdown",
      "metadata": {},
      "source": [
        "**Correlation** is a standardized measure of the relationship between\n",
        "two variables. It ranges from $-1$ to $1$, where $1$ indicates a perfect\n",
        "positive relationship, $-1$ a perfect negative relationship, and $0$ no\n",
        "relationship."
      ],
      "id": "5f662f33-545d-40ee-b5ac-2b9925b12e34"
    },
    {
      "cell_type": "raw",
      "metadata": {
        "raw_mimetype": "text/html"
      },
      "source": [
        "</p>"
      ],
      "id": "5ac172db-e398-495f-8d1c-e8378c843f3e"
    },
    {
      "cell_type": "markdown",
      "metadata": {},
      "source": [
        "The most common correlation metric is **Pearson correlation**, defined\n",
        "as:\n",
        "\n",
        "$$\n",
        "\\rho(X, Y) = \\frac{\\text{Cov}(X, Y)}{\\sigma_X \\sigma_Y}\n",
        "$$\n",
        "\n",
        "Unlike covariance, correlation gives a clearer picture of the strength\n",
        "and direction of a linear relationship between variables.\n",
        "\n",
        "### P-Values and Hypothesis Testing"
      ],
      "id": "99d60cbd-7787-481d-8734-9c96f2f8c94e"
    },
    {
      "cell_type": "raw",
      "metadata": {
        "raw_mimetype": "text/html"
      },
      "source": [
        "<p style=\"text-align: justify\">"
      ],
      "id": "17c348a7-5c82-418e-8e64-4f70d580c69b"
    },
    {
      "cell_type": "markdown",
      "metadata": {},
      "source": [
        "**P-values** and **hypothesis testing** form the backbone of inferential\n",
        "statistics. Hypothesis testing is used to determine if a given\n",
        "assumption (the **null hypothesis** $H_0$) about a population parameter\n",
        "is true or not."
      ],
      "id": "b500ac0c-30aa-4ba6-b7c4-cd261764e7c1"
    },
    {
      "cell_type": "raw",
      "metadata": {
        "raw_mimetype": "text/html"
      },
      "source": [
        "</p>"
      ],
      "id": "8d58ad06-4313-41fb-8d3b-ce0a18d490a7"
    },
    {
      "cell_type": "markdown",
      "metadata": {},
      "source": [
        "-   The **null hypothesis** $H_0$ typically suggests no effect or no\n",
        "    difference.\n",
        "-   The **alternative hypothesis** $H_1$ is the claim you want to test.\n",
        "\n",
        "The **p-value** is the probability of observing a result as extreme as,\n",
        "or more extreme than, the one obtained, assuming the null hypothesis is\n",
        "true. A small p-value (usually less than 0.05) indicates that the null\n",
        "hypothesis is unlikely, and we may reject it in favor of the alternative\n",
        "hypothesis.\n",
        "\n",
        "### Maximum Likelihood Estimation (MLE)"
      ],
      "id": "6c8b4fc5-7f98-47f2-be94-b3366b6690b8"
    },
    {
      "cell_type": "raw",
      "metadata": {
        "raw_mimetype": "text/html"
      },
      "source": [
        "<p style=\"text-align: justify\">"
      ],
      "id": "93200591-2495-47dd-916e-ddf787ddab42"
    },
    {
      "cell_type": "markdown",
      "metadata": {},
      "source": [
        "**Maximum Likelihood Estimation (MLE)** is a method for estimating the\n",
        "parameters of a statistical model. The idea behind MLE is to find the\n",
        "parameter values that maximize the likelihood function, which represents\n",
        "the probability of observing the given data under a particular model."
      ],
      "id": "cf484d26-6cc2-4fb5-a0dd-d0d5bf5fa6c0"
    },
    {
      "cell_type": "raw",
      "metadata": {
        "raw_mimetype": "text/html"
      },
      "source": [
        "</p>"
      ],
      "id": "a5d3990b-d373-4bda-83f8-0af0fcabed9e"
    },
    {
      "cell_type": "markdown",
      "metadata": {},
      "source": [
        "Given a parameter $\\theta$ and observed data $X$, the likelihood\n",
        "function is:\n",
        "\n",
        "$$\n",
        "L(\\theta | X) = P(X | \\theta)\n",
        "$$\n",
        "\n",
        "MLE finds the parameter $\\hat{\\theta}$ that maximizes this likelihood:\n",
        "\n",
        "$$\n",
        "\\hat{\\theta} = \\arg\\max_{\\theta} L(\\theta | X)\n",
        "$$\n",
        "\n",
        "MLE is widely used in statistical modeling, from simple linear\n",
        "regression to complex machine learning algorithms.\n",
        "\n",
        "### Maximum A Posteriori (MAP)\n",
        "\n",
        "While MLE focuses on maximizing the likelihood, **Maximum A Posteriori\n",
        "(MAP)** estimation incorporates prior information about the parameters.\n",
        "MAP is rooted in Bayesian statistics, where the goal is to find the\n",
        "parameter that maximizes the **posterior** distribution.\n",
        "\n",
        "The posterior is given by Bayes’ Theorem:\n",
        "\n",
        "$$\n",
        "P(\\theta | X) = \\frac{P(X | \\theta) P(\\theta)}{P(X)}\n",
        "$$\n",
        "\n",
        "MAP finds the parameter $\\hat{\\theta}_{\\text{MAP}}$ that maximizes the\n",
        "posterior probability:\n",
        "\n",
        "$$\n",
        "\\hat{\\theta}_{\\text{MAP}} = \\arg\\max_{\\theta} P(\\theta | X)\n",
        "$$\n",
        "\n",
        "Unlike MLE, MAP estimation incorporates the prior distribution\n",
        "$P(\\theta)$, making it more robust when prior knowledge is available\n",
        "\n",
        "------------------------------------------------------------------------\n",
        "\n",
        "**Share on**\n",
        "\n",
        "<a href=\"https://www.facebook.com/sharer.php?u=https://mrislambd.github.io/statandprob/posts/statisticaltalk/\" target=\"_blank\" style=\"color:#1877F2; text-decoration: none;\">\n",
        "\n",
        "</a>\n",
        "\n",
        "<a href=\"https://www.linkedin.com/sharing/share-offsite/?url=https://mrislambd.github.io/statandprob/posts/statisticaltalk/\" target=\"_blank\" style=\"color:#0077B5; text-decoration: none;\">\n",
        "\n",
        "</a>\n",
        "\n",
        "<a href=\"https://www.twitter.com/intent/tweet?url=https://mrislambd.github.io/statandprob/posts/statisticaltalk/\" target=\"_blank\" style=\"color:#1DA1F2; text-decoration: none;\">\n",
        "\n",
        "</a>"
      ],
      "id": "40c7cb78-9ab7-4f0d-b9d8-c8490cbee36f"
    },
    {
      "cell_type": "raw",
      "metadata": {
        "raw_mimetype": "text/html"
      },
      "source": [
        "<script src=\"https://giscus.app/client.js\"\n",
        "        data-repo=\"mrislambd/mrislambd.github.io\" \n",
        "        data-repo-id=\"R_kgDOMV8crA\"\n",
        "        data-category=\"Announcements\"\n",
        "        data-category-id=\"DIC_kwDOMV8crM4CjbQW\"\n",
        "        data-mapping=\"pathname\"\n",
        "        data-strict=\"0\"\n",
        "        data-reactions-enabled=\"1\"\n",
        "        data-emit-metadata=\"0\"\n",
        "        data-input-position=\"bottom\"\n",
        "        data-theme=\"light\"\n",
        "        data-lang=\"en\"\n",
        "        crossorigin=\"anonymous\"\n",
        "        async>\n",
        "</script>"
      ],
      "id": "b1485482-4ee1-47e2-a8ca-3dd5452471f0"
    },
    {
      "cell_type": "markdown",
      "metadata": {},
      "source": [],
      "id": "4064a4d9-987a-4e50-9525-c05f6ad038d4"
    },
    {
      "cell_type": "raw",
      "metadata": {
        "raw_mimetype": "text/html"
      },
      "source": [
        "<script async defer crossorigin=\"anonymous\"\n",
        " src=\"https://connect.facebook.net/en_US/sdk.js#xfbml=1&version=v20.0\"></script>"
      ],
      "id": "55ad01e2-24b6-4f31-9925-bb0eb35cd18a"
    },
    {
      "cell_type": "markdown",
      "metadata": {},
      "source": [
        "**You may also like**"
      ],
      "id": "923df39f-4468-4f23-a11b-df851efbf83e"
    }
  ],
  "nbformat": 4,
  "nbformat_minor": 5,
  "metadata": {
    "kernelspec": {
      "display_name": "Python 3",
      "language": "python",
      "name": "python3"
    }
  }
}